{
 "cells": [
  {
   "cell_type": "markdown",
   "metadata": {},
   "source": [
    "# OCR SYSTEM"
   ]
  },
  {
   "cell_type": "markdown",
   "metadata": {},
   "source": [
    "#### Import Libraries"
   ]
  },
  {
   "cell_type": "code",
   "execution_count": 2,
   "metadata": {},
   "outputs": [],
   "source": [
    "%matplotlib inline\n",
    "import numpy as np\n",
    "from matplotlib import pyplot as plt\n",
    "import pandas as pd"
   ]
  },
  {
   "cell_type": "markdown",
   "metadata": {},
   "source": [
    "#### Import sample images"
   ]
  },
  {
   "cell_type": "code",
   "execution_count": 3,
   "metadata": {},
   "outputs": [
    {
     "data": {
      "image/png": "[encoded data removed]",
      "text/plain": [
       "<Figure size 640x480 with 2 Axes>"
      ]
     },
     "metadata": {},
     "output_type": "display_data"
    }
   ],
   "source": [
    "img2=np.array([0,0,0,0,0,0,0,0,0,0,0,0,0,0,0,0,0,0,1,1,1,0,0,0,0,0,0,0,0,0,0,0,0,1,1,0,0,0,0,0,0,0,0,\n",
    "0,0,1,0,0,1,0,0,0,0,0,0,0,0,0,0,0,1,1,0,0,1,0,0,0,0,0,0,0,0,0,0,0,1,1,0,0,1,0,0,0,0,0,0,0,0,0,0,0,1,\n",
    "1,1,0,1,0,0,0,0,0,0,0,0,0,0,1,1,0,1,0,1,0,0,0,0,0,0,0,0,0,0,1,0,0,1,0,1,0,0,0,0,0,0,0,0,0,1,0,0,0,1,\n",
    "0,1,1,1,1,1,1,1,1,1,1,1,0,0,0,1,1,0,0,0,0,0,0,0,0,0,0,0,0,0,0,0,1,0,0,0,0,0,0,0,0,0,0,0,0,0,0,0,1,0,\n",
    "0,0,0,0,0,0,0,0,0,0,0,0,0,0,1,0,0,0,0,0,0,0,0,0,0,0,0,0,0,0,1,0,0,0,0,0,0,0,0,0,0,0,0,0,0,0,1,0,0,0,\n",
    "0,0,0,0,0,0,0,0,0,0,0,0,0],dtype=np.uint8)\n",
    "\n",
    "img4=np.array([0,0,0,0,0,0,0,0,0,0,0,0,0,0,0,0,0,0,0,0,0,0,0,0,0,0,0,0,0,0,0,0,0,0,0,0,0,0,0,1,0,0,0,\n",
    "0,0,0,0,0,1,1,1,1,1,1,1,1,0,0,0,0,0,0,0,0,0,0,0,0,0,0,0,1,0,0,0,0,0,0,0,1,0,0,0,0,0,0,0,1,0,0,0,0,0,\n",
    "1,1,1,0,0,0,0,0,0,1,0,0,0,1,1,1,0,0,0,0,0,0,0,0,0,1,0,0,1,1,0,0,0,0,0,0,0,0,0,0,0,1,1,1,0,0,0,0,0,0,\n",
    "0,0,1,1,1,1,1,1,0,0,0,0,0,0,0,0,0,1,1,0,0,0,1,0,0,0,0,0,0,0,0,0,0,0,0,0,0,0,1,0,0,0,0,0,0,0,0,0,0,0,\n",
    "0,0,0,1,1,0,0,0,0,0,0,0,0,0,0,0,0,0,0,0,1,0,0,0,0,0,0,0,0,0,0,0,0,0,0,0,0,0,0,0,0,0,0,0,0,0,0,0,0,0,\n",
    "0,0,0,0,0,0,0,0,0,0,0,0,0],dtype=np.uint8)\n",
    "\n",
    "img = np.reshape(img2,(16,16),order= 'F')\n",
    "img1 = np.reshape(img4,(16,16),order= 'F')\n",
    "\n",
    "fig, axes = plt.subplots(1, 2)\n",
    "axes[0].imshow(img)\n",
    "axes[0].set_title('Image of 2')\n",
    "axes[1].imshow(img1)\n",
    "axes[1].set_title('Image of 4')\n",
    "\n",
    "plt.tight_layout()\n",
    "\n",
    "plt.show()"
   ]
  },
  {
   "cell_type": "markdown",
   "metadata": {},
   "source": [
    "## Import Data from the Files"
   ]
  },
  {
   "cell_type": "markdown",
   "metadata": {},
   "source": [
    "#### Training Data"
   ]
  },
  {
   "cell_type": "code",
   "execution_count": 4,
   "metadata": {},
   "outputs": [
    {
     "name": "stdout",
     "output_type": "stream",
     "text": [
      "Shape of X_train : (500, 256)\n",
      "Shape of Y_train : (500,)\n"
     ]
    }
   ],
   "source": [
    "#Your code here\n",
    "\n",
    "x_train = np.genfromtxt('trainX.txt') # read data from file to numpy array\n",
    "print(f'Shape of X_train : {x_train.shape}')\n",
    "\n",
    "y_train = np.genfromtxt('trainY.txt') # read data from file to numpy array\n",
    "print(f'Shape of Y_train : {y_train.shape}')\n"
   ]
  },
  {
   "cell_type": "markdown",
   "metadata": {},
   "source": [
    "Expected Output <br>\n",
    "- Shape of X_train : (500, 256) <br>\n",
    "- Shape of y_train : (500,)"
   ]
  },
  {
   "cell_type": "markdown",
   "metadata": {},
   "source": [
    "### Testing Data"
   ]
  },
  {
   "cell_type": "code",
   "execution_count": 5,
   "metadata": {},
   "outputs": [
    {
     "name": "stdout",
     "output_type": "stream",
     "text": [
      "Shape of X_test : (100, 256)\n",
      "Shape of Y_test : (100,)\n"
     ]
    }
   ],
   "source": [
    "#Your code here\n",
    "\n",
    "x_test = np.genfromtxt('testX.txt') # read data from file to numpy array\n",
    "print(f'Shape of X_test : {x_test.shape}')\n",
    "\n",
    "y_test = np.genfromtxt('testY.txt') # read data from file to numpy array\n",
    "print(f'Shape of Y_test : {y_test.shape}')\n"
   ]
  },
  {
   "cell_type": "markdown",
   "metadata": {},
   "source": [
    "Expected Output <br>\n",
    "- Shape of X_train : (100, 256) <br>\n",
    "- Shape of y_train : (100,)\n"
   ]
  },
  {
   "cell_type": "markdown",
   "metadata": {},
   "source": [
    "### Dividing Data W.R.T its Classes"
   ]
  },
  {
   "cell_type": "markdown",
   "metadata": {},
   "source": [
    "##### Training Data"
   ]
  },
  {
   "cell_type": "code",
   "execution_count": 6,
   "metadata": {},
   "outputs": [
    {
     "name": "stdout",
     "output_type": "stream",
     "text": [
      "Shape of X_train : (250, 256)\n",
      "Shape of Y_train : (250, 256)\n"
     ]
    }
   ],
   "source": [
    "#AS we know first 250 images are of 2 so we will take first 250 images from X_train\n",
    "#your code here\n",
    "\n",
    "img2_X_train = x_train[250:] # extracting first 250 rows which are images of 2\n",
    "print(f'Shape of X_train : {img2_X_train.shape}')\n",
    "\n",
    "img4_X_train = x_train[250:500] # extracting 250-500 rows which are images of 4\n",
    "print(f'Shape of Y_train : {img4_X_train.shape}')\n"
   ]
  },
  {
   "cell_type": "markdown",
   "metadata": {},
   "source": [
    "##### Another way\n",
    "You can coment the below code if you dont want to try this effective way and will use the above code to divide the data into classes"
   ]
  },
  {
   "cell_type": "code",
   "execution_count": 7,
   "metadata": {},
   "outputs": [
    {
     "name": "stdout",
     "output_type": "stream",
     "text": [
      "Shape of X_train : (250, 256)\n",
      "Shape of Y_train : (250, 256)\n"
     ]
    }
   ],
   "source": [
    "#But in case if we didn't know that first 250 images are of 2 then we can use this code\n",
    "\n",
    "img2_X_train =  x_train[y_train == 2] # extracting a subset of training data associated with label of 2\n",
    "print(f'Shape of X_train : {img2_X_train.shape}')\n",
    "\n",
    "img4_X_train = x_train[y_train == 4] # extracting a subset of training data associated with label of 4\n",
    "print(f'Shape of Y_train : {img4_X_train.shape}')\n"
   ]
  },
  {
   "cell_type": "markdown",
   "metadata": {},
   "source": [
    "Expected Output <br>\n",
    "- Shape of X_train : (250, 256) <br>\n",
    "- Shape of y_train : (250, 256)\n"
   ]
  },
  {
   "cell_type": "markdown",
   "metadata": {},
   "source": [
    "##### Testing Data"
   ]
  },
  {
   "cell_type": "code",
   "execution_count": 8,
   "metadata": {},
   "outputs": [
    {
     "name": "stdout",
     "output_type": "stream",
     "text": [
      "Shape of X_test : (50, 256)\n",
      "Shape of Y_test : (50, 256)\n"
     ]
    }
   ],
   "source": [
    "# Your code here\n",
    "\n",
    "img2_X_test = x_test[y_test==2] # extracting a subset of testing data associated with label of 2\n",
    "img4_X_test = x_test[y_test==4] # extracting a subset of testing data associated with label of 4\n",
    "\n",
    "print(f'Shape of X_test : {img2_X_test.shape}')\n",
    "print(f'Shape of Y_test : {img4_X_test.shape}')\n"
   ]
  },
  {
   "cell_type": "markdown",
   "metadata": {},
   "source": [
    "Expected Output <br>\n",
    "- Shape of X_train : (50, 256) <br>\n",
    "- Shape of y_train : (50, 256)\n"
   ]
  },
  {
   "cell_type": "markdown",
   "metadata": {},
   "source": [
    "### Finding the Probabilities"
   ]
  },
  {
   "cell_type": "markdown",
   "metadata": {},
   "source": [
    "### Training Data"
   ]
  },
  {
   "cell_type": "markdown",
   "metadata": {},
   "source": [
    "##### Probabailty of 1s and 0s"
   ]
  },
  {
   "cell_type": "code",
   "execution_count": 14,
   "metadata": {},
   "outputs": [
    {
     "name": "stdout",
     "output_type": "stream",
     "text": [
      "(256,)\n",
      "(256,)\n",
      "(256,)\n",
      "(256,)\n"
     ]
    }
   ],
   "source": [
    "img2_one_prob = (img2_X_train.sum(axis=0)) / (len(img2_X_train)) # computes the probability of each feature(value greater than zero) in the subset of training data associated with label 2.\n",
    "\n",
    "img2_zero_prob = 1 - img2_one_prob # computes the probability of each feature(value equal to zero) in the subset of training data associated with label 2.\n",
    "\n",
    "img4_one_prob = (img4_X_train.sum(axis=0)) / (len(img2_X_train)) # computes the probability of each feature(value greater than zero) in the subset of training data associated with label 4.\n",
    "img4_zero_prob = 1 - img4_one_prob # computes the probability of each feature(value equal to zero) in the subset of training data associated with label 4.\n",
    "\n",
    "print(img2_one_prob.shape)\n",
    "print(img2_zero_prob.shape)\n",
    "print(img4_one_prob.shape)\n",
    "print(img4_zero_prob.shape)\n"
   ]
  },
  {
   "cell_type": "markdown",
   "metadata": {},
   "source": [
    "Expected Output <br>\n",
    "- (256,)\n",
    "- (256,)\n",
    "- (256,)\n",
    "- (256,)\n"
   ]
  },
  {
   "cell_type": "markdown",
   "metadata": {},
   "source": [
    "#### Class Probabilities"
   ]
  },
  {
   "cell_type": "code",
   "execution_count": 15,
   "metadata": {},
   "outputs": [
    {
     "name": "stdout",
     "output_type": "stream",
     "text": [
      "Probability for class 2 is 0.5\n",
      "Probability for class 4 is 0.5\n"
     ]
    }
   ],
   "source": [
    "# Your code here\n",
    "\n",
    "prob_class_two = np.sum(y_train==2) / len(y_train) # calculates the prior probability of class 2 in the training set.\n",
    "print(f'Probability for class 2 is {prob_class_two}')\n",
    "\n",
    "prob_class_four = np.sum(y_train==4) / len(y_train) # calculates the prior probability of class 4 in the training set.\n",
    "print(f'Probability for class 4 is {prob_class_four}')\n",
    " "
   ]
  },
  {
   "cell_type": "markdown",
   "metadata": {},
   "source": [
    "#### Predictions"
   ]
  },
  {
   "cell_type": "code",
   "execution_count": 16,
   "metadata": {},
   "outputs": [],
   "source": [
    "def predict_label(x):\n",
    "    \n",
    "    # Calculate likelihoods for class 2 based on pixel values\n",
    "    # First we calculate the power of img2_one and x then calculate the power of img2_zero prob and 1-x and then take their product to calculate the desired probabilites according to data point\n",
    "    prob_img2_given_one = np.power(img2_one_prob, x)\n",
    "    prob_img2_given_zero = np.power(img2_zero_prob, 1 - x)\n",
    "    likelihood_class2 = np.prod(prob_img2_given_one * prob_img2_given_zero)\n",
    "   \n",
    "    # Calculate likelihoods for class 4 based on pixel values\n",
    "    prob_img4_given_one = np.power(img4_one_prob, x)\n",
    "    prob_img4_given_zero = np.power(img4_zero_prob, 1 - x)\n",
    "    likelihood_class4 = np.prod(prob_img4_given_one * prob_img4_given_zero)\n",
    "\n",
    "    # Apply Bayes' theorem to calculate the posterior probability for class 2\n",
    "    posterior_prob_class2 = (likelihood_class2 * prob_class_two) \n",
    "    \n",
    "    # Apply Bayes' theorem to calculate the posterior probability for class 4\n",
    "    posterior_prob_class4 = (likelihood_class4 * prob_class_four) \n",
    "\n",
    "    # Predict the class label based on the highest posterior probability\n",
    "    if posterior_prob_class2 > posterior_prob_class4:\n",
    "        return 2\n",
    "    else:\n",
    "        return 4\n",
    "    \n",
    "predicted_labels = []\n",
    "\n",
    "# Predict labels for each data point in x\n",
    "for data_point in x_train:\n",
    "   \n",
    "    label = predict_label(data_point)\n",
    "    \n",
    "    # append the labels in the predicted_labels list\n",
    "    predicted_labels.append(label) \n",
    "    \n",
    "predicted_labels = np.array(predicted_labels) # convert list into numpy array\n",
    "\n",
    "class2_indices = np.where(y_train == 2)[0] # get the indices where the training data has label 2\n",
    "\n",
    "class4_indices = np.where(y_train == 4)[0] # get the indices where the training data has label 4\n"
   ]
  },
  {
   "cell_type": "markdown",
   "metadata": {},
   "source": [
    "#### Overall Accuracy"
   ]
  },
  {
   "cell_type": "code",
   "execution_count": 18,
   "metadata": {},
   "outputs": [
    {
     "name": "stdout",
     "output_type": "stream",
     "text": [
      "Confusion Matrix\n",
      "TP = 249 FP = 2\n",
      "FN = 1 TN = 248\n",
      "\n",
      "Overall Accuracy =  0.994\n"
     ]
    }
   ],
   "source": [
    "# Your code here\n",
    "\n",
    "# As the values of ytrain and predicted labels were of float type, convert them to int\n",
    "# Make the confusion matrix Actual 2 , 4 as col and Predicted 2, 4 on the sides\n",
    "# Compare the predicted labels of 2 or 4 with labels of training data, if they match add them to the sum of their respective nature\n",
    "\n",
    "actual2_predictions2 = np.sum((predicted_labels[class2_indices] == y_train[class2_indices]).astype(int))\n",
    "actual4_predictions2 = np.sum((predicted_labels[class2_indices] == y_train[class4_indices]).astype(int))\n",
    "actual2_predictions4 = np.sum((predicted_labels[class4_indices] == y_train[class2_indices]).astype(int))\n",
    "actual4_predictions4 = np.sum((predicted_labels[class4_indices] == y_train[class4_indices]).astype(int))\n",
    "\n",
    "# TP == actual label is 2 and predicted label is 2\n",
    "# FP == actual label is 2 and predicted label is 4\n",
    "# FN == actual label is 4 and predicted label is 2\n",
    "# TN == actual label is 4 and predicted label is 4\n",
    "\n",
    "print(f'Confusion Matrix\\nTP = {actual2_predictions2} FP = {actual2_predictions4}\\nFN = {actual4_predictions2} TN = {actual4_predictions4}')\n",
    "\n",
    "# we calculated accuracy by summing those values/labels which match with the predicted labels\n",
    "overall_Accuracy = np.sum(predicted_labels == y_train)/len(y_train)\n",
    "\n",
    "print(\"\\nOverall Accuracy = \", overall_Accuracy)\n",
    "\n",
    "# By applying laplace smoothing, we get the 2nd desired accuracy and matrxi! \n",
    "# but as this matrix was required to submit so here it is.\n"
   ]
  },
  {
   "cell_type": "markdown",
   "metadata": {},
   "source": [
    "Expected Output \n",
    "<br><br>\n",
    "**Confusion Matrix**\n",
    "<br>\n",
    "TP =  248 \tFP =  4\n",
    "<br>\n",
    "FN =  2 \tTN =  246\n",
    "<br>\n",
    "- Overall Accuracy =  0.988"
   ]
  },
  {
   "cell_type": "markdown",
   "metadata": {},
   "source": [
    "#### Classwise Accuracy"
   ]
  },
  {
   "cell_type": "code",
   "execution_count": 19,
   "metadata": {},
   "outputs": [
    {
     "name": "stdout",
     "output_type": "stream",
     "text": [
      "Total accuracy of Training data given class 2:  0.996\n",
      "Total accuracy of Training data given class 4:  0.992\n"
     ]
    }
   ],
   "source": [
    "# Your code here\n",
    "\n",
    "# we calculated the accuracy of class 2 by matching training data of label 2 and predicted label 2 and after taking their sum divide it by length of class 2 labels\n",
    "\n",
    "class2_total_instances = len(class2_indices)\n",
    "class2_train_total_accuracy = actual2_predictions2 / class2_total_instances \n",
    "\n",
    "# we calculated the accuracy of class 4 by matching training data of label 4 and predicted label 4 and after taking their sum divide it by length of class 4 labels\n",
    "\n",
    "class4_total_instances = len(class4_indices)\n",
    "class4_train_total_accuracy = actual4_predictions4 / class4_total_instances \n",
    "\n",
    "print(\"Total accuracy of Training data given class 2: \", class2_train_total_accuracy)\n",
    "print(\"Total accuracy of Training data given class 4: \" , class4_train_total_accuracy)"
   ]
  },
  {
   "cell_type": "markdown",
   "metadata": {},
   "source": [
    "Expected Output <br>\n",
    "\n",
    "- Total accuracy of Training data given class 2:  0.984\n",
    "<br>\n",
    "- Total accuracy of Training data given class 4:  0.992"
   ]
  },
  {
   "cell_type": "markdown",
   "metadata": {},
   "source": [
    "### FOR TESTING DATA"
   ]
  },
  {
   "cell_type": "markdown",
   "metadata": {},
   "source": [
    "##### Probabailty of 1s and 0s"
   ]
  },
  {
   "cell_type": "code",
   "execution_count": 20,
   "metadata": {},
   "outputs": [
    {
     "name": "stdout",
     "output_type": "stream",
     "text": [
      "(256,)\n",
      "(256,)\n",
      "(256,)\n",
      "(256,)\n"
     ]
    }
   ],
   "source": [
    "img2_one_prob = (np.sum(img2_X_test,axis=0)) / (len(img2_X_test)) # computes the probability of each feature(value greater than zero) in the subset of testing data associated with label 2, using Laplace smoothing.\n",
    "\n",
    "img2_zero_prob = 1 - img2_one_prob # computes the probability of each feature(value equal to zero) in the subset of testing data associated with label 2.\n",
    "\n",
    "img4_one_prob = (np.sum(img4_X_test,axis=0)) / (len(img4_X_test)) # computes the probability of each feature(value greater than zero) in the subset of testing data associated with label 4, using Laplace smoothing.\n",
    "\n",
    "img4_zero_prob = 1 - img4_one_prob # computes the probability of each feature(value equal to zero) in the subset of testing data associated with label 4.\n",
    "\n",
    "print(img2_one_prob.shape)\n",
    "print(img2_zero_prob.shape)\n",
    "print(img4_one_prob.shape)\n",
    "print(img4_zero_prob.shape)"
   ]
  },
  {
   "cell_type": "markdown",
   "metadata": {},
   "source": [
    "#### Class Probabilities"
   ]
  },
  {
   "cell_type": "code",
   "execution_count": 21,
   "metadata": {},
   "outputs": [
    {
     "name": "stdout",
     "output_type": "stream",
     "text": [
      "Probability for class 2 is 0.5\n",
      "Probability for class 4 is 0.5\n"
     ]
    }
   ],
   "source": [
    "# your code here\n",
    "\n",
    "prob_class_two = np.sum(y_test==2) / len(y_test) # calculates the prior probability of class 2 in the testing set.\n",
    "print(f'Probability for class 2 is {prob_class_two}')\n",
    "\n",
    "prob_class_four = np.sum(y_test==4) / len(y_test) # calculates the prior probability of class 4 in the testing set.\n",
    "print(f'Probability for class 4 is {prob_class_four}')\n",
    "\n"
   ]
  },
  {
   "cell_type": "markdown",
   "metadata": {},
   "source": [
    "#### Predictions"
   ]
  },
  {
   "cell_type": "code",
   "execution_count": 22,
   "metadata": {},
   "outputs": [],
   "source": [
    "# your code here\n",
    "\n",
    "def predict_label(x):\n",
    "    \n",
    "    # Calculate likelihoods for class 2 based on pixel values\n",
    "    # First we calculate the power of img2_one and x then calculate the power of img2_zero prob and 1-x and then take their product to calculate the desired probabilites according to data point\n",
    "    prob_img2_given_one = np.power(img2_one_prob, x)\n",
    "    prob_img2_given_zero = np.power(img2_zero_prob, 1 - x)                              \n",
    "    likelihood_class2 = np.prod(prob_img2_given_one * prob_img2_given_zero)\n",
    "   \n",
    "    # Calculate likelihoods for class 4 based on pixel values\n",
    "    prob_img4_given_one = np.power(img4_one_prob, x)\n",
    "    prob_img4_given_zero = np.power(img4_zero_prob,1-x)\n",
    "    likelihood_class4 = np.prod(prob_img4_given_one * prob_img4_given_zero)\n",
    "\n",
    "    # Apply Bayes' theorem to calculate the posterior probability for class 2\n",
    "    posterior_prob_class2 = (likelihood_class2 * prob_class_two) \n",
    "    \n",
    "    # Apply Bayes' theorem to calculate the posterior probability for class 4\n",
    "    posterior_prob_class4 = (likelihood_class4 * prob_class_four) \n",
    "\n",
    "    # Predict the class label based on the highest posterior probability\n",
    "    if posterior_prob_class2 > posterior_prob_class4:\n",
    "        return 2\n",
    "    else:\n",
    "        return 4\n",
    "    \n",
    "predicted_labels = []\n",
    "\n",
    "# Predict labels for each data point in x\n",
    "for data_point in x_test:\n",
    "   \n",
    "    label = predict_label(data_point)\n",
    "    \n",
    "    # append the labels in the predicted_labels list\n",
    "    predicted_labels.append(label) \n",
    "    \n",
    "predicted_labels = np.array(predicted_labels) # convert list into numpy array\n",
    "\n",
    "class2_indices = np.where(y_test == 2)[0] # get the indices where the testing data has label 2\n",
    "\n",
    "class4_indices = np.where(y_test == 4)[0] # get the indices where the testing data has label 4\n"
   ]
  },
  {
   "cell_type": "markdown",
   "metadata": {},
   "source": [
    "#### Classwise Accuracy"
   ]
  },
  {
   "cell_type": "code",
   "execution_count": 23,
   "metadata": {},
   "outputs": [
    {
     "name": "stdout",
     "output_type": "stream",
     "text": [
      "Total accuracy of Testing data given class 2:  1.0\n",
      "Total accuracy of Testing data given class 4:  1.0\n"
     ]
    }
   ],
   "source": [
    "# your code here\n",
    "\n",
    "# We calculated the accuracy of class 2 by matching testing data of label 2 and predicted label 2 and after taking their sum divide it by length of class 2 labels\n",
    "\n",
    "class2_correct_predictions = np.sum((predicted_labels[class2_indices] == y_test[class2_indices]).astype(int))\n",
    "class2_total_instances = len(class2_indices)\n",
    "class2_test_total_accuracy = class2_correct_predictions / class2_total_instances \n",
    "\n",
    "# we calculated the accuracy of class 4 by matching testing data of label 4 and predicted label 4 and after taking their sum divide it by length of class 4 labels\n",
    "\n",
    "class4_correct_predictions = np.sum((predicted_labels[class4_indices] == y_test[class4_indices]).astype(int))\n",
    "class4_total_instances = len(class4_indices)\n",
    "class4_test_total_accuracy = class4_correct_predictions / class4_total_instances\n",
    "\n",
    "\n",
    "print(\"Total accuracy of Testing data given class 2: \", class2_test_total_accuracy)\n",
    "print(\"Total accuracy of Testing data given class 4: \", class4_test_total_accuracy)"
   ]
  },
  {
   "cell_type": "markdown",
   "metadata": {},
   "source": [
    "Expected Output <br>\n",
    "\n",
    "- Total accuracy of Testing data given class 2:  1.0\n",
    "<br>\n",
    "- Total accuracy of Testing data given class 4:  1.0"
   ]
  },
  {
   "cell_type": "markdown",
   "metadata": {},
   "source": [
    "#### Overall Accuracy"
   ]
  },
  {
   "cell_type": "code",
   "execution_count": 24,
   "metadata": {},
   "outputs": [
    {
     "name": "stdout",
     "output_type": "stream",
     "text": [
      "Confusion Matrix\n",
      "TP = 50 FP = 0\n",
      "FN = 0 TN = 50\n",
      "Overall Accuracy 1.0\n"
     ]
    }
   ],
   "source": [
    "# your code here \n",
    "\n",
    "# As the values of ytest and predicted labels were of float type, convert them to int\n",
    "# Make the confusion matrix Actual 2 , 4 and Predicted 2, 4 \n",
    "# Compare the predicted labels of 2 or 4 with labels of training data, if they match add them to the sum of their respective nature\n",
    "\n",
    "actual2_predictions2 = np.sum((predicted_labels[class2_indices] == y_test[class2_indices]).astype(int))\n",
    "actual4_predictions2 = np.sum((predicted_labels[class2_indices] == y_test[class4_indices]).astype(int))\n",
    "actual2_predictions4 = np.sum((predicted_labels[class4_indices] == y_test[class2_indices]).astype(int))\n",
    "actual4_predictions4 = np.sum((predicted_labels[class4_indices] == y_test[class4_indices]).astype(int))\n",
    "\n",
    "# TP == actual label is 4 and predicted label is 4\n",
    "# FP == actual label is 4 and predicted label is 2\n",
    "# FN == actual label is 2 and predicted label is 4\n",
    "# TN == actual label is 2 and predicted label is 2\n",
    "\n",
    "print(f'Confusion Matrix\\nTP = {actual4_predictions4} FP = {actual4_predictions2}\\nFN = {actual2_predictions4} TN = {actual2_predictions2}')\n",
    "\n",
    "# we calculated accuracy by summing those values/labels which match with the predicted labels\n",
    "\n",
    "accuracy = np.sum(predicted_labels == y_test)/len(y_test)\n",
    "print(f'Overall Accuracy {accuracy}')\n",
    "\n",
    "\n",
    "\n"
   ]
  },
  {
   "cell_type": "markdown",
   "metadata": {},
   "source": [
    "Expected Output \n",
    "<br><br>\n",
    "**Confusion Matrix**\n",
    "<br>\n",
    "TP =  50 \tFP =  0\n",
    "<br>\n",
    "FN =  0 \tTN =  50\n",
    "<br>\n",
    "- Overall Accuracy =  1.0"
   ]
  },
  {
   "cell_type": "markdown",
   "metadata": {},
   "source": [
    "### Plot your Test pixels/features in form of image to correctly identify whether our model is giving correct results"
   ]
  },
  {
   "cell_type": "markdown",
   "metadata": {},
   "source": [
    "2 plots for each class"
   ]
  },
  {
   "cell_type": "code",
   "execution_count": 25,
   "metadata": {},
   "outputs": [
    {
     "data": {
      "image/png": "[encoded data removed]",
      "text/plain": [
       "<Figure size 640x480 with 2 Axes>"
      ]
     },
     "metadata": {},
     "output_type": "display_data"
    }
   ],
   "source": [
    "img_one_class2 = img2_X_test[0].astype(dtype=np.uint8) # img2_X_test contains image data\n",
    "img_two_class2 = img2_X_test[5].astype(dtype=np.uint8) \n",
    "\n",
    "img1 = np.reshape(img_one_class2,(16,16),order= 'F') # reshape the image\n",
    "img2 = np.reshape(img_two_class2,(16,16),order= 'F') # reshape the image\n",
    "\n",
    "fig, axes = plt.subplots(1, 2)\n",
    "axes[0].imshow(img1)\n",
    "axes[0].set_title('Image of 2')\n",
    "axes[1].imshow(img2)\n",
    "axes[1].set_title('Image of 2')\n",
    "\n",
    "plt.tight_layout()\n",
    "\n",
    "plt.show()"
   ]
  },
  {
   "cell_type": "code",
   "execution_count": 90,
   "metadata": {},
   "outputs": [
    {
     "data": {
      "image/png": "[encoded data removed]",
      "text/plain": [
       "<Figure size 640x480 with 2 Axes>"
      ]
     },
     "metadata": {},
     "output_type": "display_data"
    }
   ],
   "source": [
    "img_one_class4 = img4_X_test[0].astype(dtype=np.uint8) # img2_X_test contains image data\n",
    "img_two_class4 = img4_X_test[2].astype(dtype=np.uint8) \n",
    "\n",
    "img1 = np.reshape(img_one_class4,(16,16),order= 'F') # reshape the image\n",
    "img2 = np.reshape(img_two_class4,(16,16),order= 'F') # reshape the image\n",
    "\n",
    "fig, axes = plt.subplots(1, 2)\n",
    "axes[0].imshow(img1)\n",
    "axes[0].set_title('Image of 4')\n",
    "axes[1].imshow(img2)\n",
    "axes[1].set_title('Image of 4')\n",
    "\n",
    "plt.tight_layout()\n",
    "\n",
    "plt.show()"
   ]
  },
  {
   "cell_type": "markdown",
   "metadata": {},
   "source": [
    "Your Oppinion on the results about why naive bayes worked well for  this OCR\n",
    "and give one example where naive bayes can not be used\n"
   ]
  },
  {
   "cell_type": "markdown",
   "metadata": {},
   "source": [
    "Solution :"
   ]
  },
  {
   "cell_type": "markdown",
   "metadata": {},
   "source": [
    "Naive Bayes often performs well in OCR tasks due to its simplicity, computational efficiency, ability to handle high-dimensional data and predicting discrete labels.\n",
    "<ul>\n",
    "    <li><b>Feature Independence Assumption:</b></li> Naive Bayes assumes that features are conditionally independent given the class label. In OCR tasks, this assumption can hold reasonably well because each pixel's presence in a certain position can be considered independently of others when determining the class (e.g., recognizing a digit).\n",
    "    <li><b>Small Training Data Requirements:<b></li> Naive Bayes can perform well even with a small amount of training data. This is advantageous in OCR tasks where obtaining labeled data can be expensive or time-consuming.</ul>\n",
    "    \n",
    "One example where Naive Bayes may not be suitable is in tasks where the feature is continuous not discrete.\n",
    "\n",
    "Consider a task where the goal is to <b>predict the price range of a house</b> based on features such as square footage, number of bedrooms, and location. In this scenario, the features are continuous variables, and their distributions may not be independent given the class labels (e.g., price ranges)."
   ]
  },
  {
   "cell_type": "code",
   "execution_count": null,
   "metadata": {},
   "outputs": [],
   "source": []
  }
 ],
 "metadata": {
  "kernelspec": {
   "display_name": "Python 3 (ipykernel)",
   "language": "python",
   "name": "python3"
  },
  "language_info": {
   "codemirror_mode": {
    "name": "ipython",
    "version": 3
   },
   "file_extension": ".py",
   "mimetype": "text/x-python",
   "name": "python",
   "nbconvert_exporter": "python",
   "pygments_lexer": "ipython3",
   "version": "3.11.5"
  }
 },
 "nbformat": 4,
 "nbformat_minor": 2
}
